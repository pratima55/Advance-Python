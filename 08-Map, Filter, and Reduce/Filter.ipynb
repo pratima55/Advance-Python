{
 "cells": [
  {
   "cell_type": "markdown",
   "id": "ef9aec17-f19d-48d7-9813-d6b08e40508e",
   "metadata": {},
   "source": [
    "# Filter"
   ]
  },
  {
   "cell_type": "markdown",
   "id": "ebace01e-1e43-4607-9db4-b92d51a0e3db",
   "metadata": {},
   "source": [
    "#### The filter() function returns only the elements that satisfy a given condition (function returns True)."
   ]
  },
  {
   "cell_type": "code",
   "execution_count": 7,
   "id": "abd9257d-5cbb-4968-b640-0ede38304320",
   "metadata": {},
   "outputs": [
    {
     "name": "stdout",
     "output_type": "stream",
     "text": [
      "Failing scores: [35, 55]\n"
     ]
    }
   ],
   "source": [
    "marks = [77,97,64, 35, 55]\n",
    "\n",
    "def failing(score):\n",
    "    return score < 60\n",
    "\n",
    "result = filter(failing, marks)\n",
    "print(\"Failing scores:\", list(result))"
   ]
  },
  {
   "cell_type": "code",
   "execution_count": 8,
   "id": "1c52d0a4-112b-4c8b-8906-78ad22eb0cac",
   "metadata": {},
   "outputs": [
    {
     "name": "stdout",
     "output_type": "stream",
     "text": [
      "[2, 4, 6]\n"
     ]
    }
   ],
   "source": [
    "numbers = [1, 2, 3, 4, 5, 6]\n",
    "\n",
    "def is_even(x):\n",
    "    return x % 2 == 0\n",
    "\n",
    "even_numbers = filter(is_even, numbers)\n",
    "print(list(even_numbers))\n"
   ]
  },
  {
   "cell_type": "code",
   "execution_count": 9,
   "id": "76170bc1-d3df-448e-92f4-2a0603356e55",
   "metadata": {},
   "outputs": [
    {
     "name": "stdout",
     "output_type": "stream",
     "text": [
      "[25, 30]\n"
     ]
    }
   ],
   "source": [
    "nums = [10, 15, 20, 25, 30]\n",
    "\n",
    "result = filter(lambda x: x > 20, nums)\n",
    "print(list(result))\n"
   ]
  },
  {
   "cell_type": "code",
   "execution_count": 10,
   "id": "28b49b66-b45c-449f-98b5-594200eb6f01",
   "metadata": {},
   "outputs": [
    {
     "name": "stdout",
     "output_type": "stream",
     "text": [
      "['apple', 'banana', 'cherry']\n"
     ]
    }
   ],
   "source": [
    "words = [\"apple\", \"\", \"banana\", \"\", \"cherry\"]\n",
    "\n",
    "non_empty = filter(None, words)  # None removes \"falsy\" values like \"\"\n",
    "print(list(non_empty))\n"
   ]
  },
  {
   "cell_type": "code",
   "execution_count": 11,
   "id": "0b697708-3206-43d4-ab8d-a5d382f937c1",
   "metadata": {},
   "outputs": [
    {
     "name": "stdout",
     "output_type": "stream",
     "text": [
      "['Alice', 'Angela', 'Ankit']\n"
     ]
    }
   ],
   "source": [
    "names = [\"Alice\", \"Bob\", \"Angela\", \"David\", \"Ankit\"]\n",
    "\n",
    "starts_with_a = filter(lambda name: name.startswith(\"A\"), names)\n",
    "print(list(starts_with_a))\n"
   ]
  },
  {
   "cell_type": "code",
   "execution_count": null,
   "id": "18c7d03e-8b84-484a-ad1a-93cc46844def",
   "metadata": {},
   "outputs": [],
   "source": []
  }
 ],
 "metadata": {
  "kernelspec": {
   "display_name": "Python 3 (ipykernel)",
   "language": "python",
   "name": "python3"
  },
  "language_info": {
   "codemirror_mode": {
    "name": "ipython",
    "version": 3
   },
   "file_extension": ".py",
   "mimetype": "text/x-python",
   "name": "python",
   "nbconvert_exporter": "python",
   "pygments_lexer": "ipython3",
   "version": "3.11.9"
  }
 },
 "nbformat": 4,
 "nbformat_minor": 5
}
