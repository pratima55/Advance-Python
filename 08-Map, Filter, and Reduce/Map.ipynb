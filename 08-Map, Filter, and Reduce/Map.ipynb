{
 "cells": [
  {
   "cell_type": "markdown",
   "id": "0f43d994-5d92-452a-9157-859a9eac84ce",
   "metadata": {},
   "source": [
    "# Map"
   ]
  },
  {
   "cell_type": "code",
   "execution_count": 5,
   "id": "c53c34fe-8eb6-4569-8498-65f2f2277a53",
   "metadata": {},
   "outputs": [
    {
     "name": "stdout",
     "output_type": "stream",
     "text": [
      "Exam Score: [77, 97, 64, 85, 55]\n",
      "Grades: C\n"
     ]
    }
   ],
   "source": [
    "marks = [77,97,64, 85, 55]\n",
    "\n",
    "def grade(marks):\n",
    "    if marks >=90:\n",
    "        return \"A\"\n",
    "    elif  80 <= marks <90:\n",
    "        return \"B\"\n",
    "    elif 70 <= marks < 80:\n",
    "        return \"C\"\n",
    "    elif 60<= marks<70:\n",
    "        return \"D\"\n",
    "    else:\n",
    "        return \"F\"\n",
    "\n",
    "grades = map(grade, marks)\n",
    "\n",
    "print(\"Exam Score:\", marks)\n",
    "print(\"Grades:\", next(grades))\n",
    "        \n",
    "    "
   ]
  },
  {
   "cell_type": "code",
   "execution_count": 6,
   "id": "79841778-5bf4-43e6-a1bf-ef9905654574",
   "metadata": {},
   "outputs": [
    {
     "name": "stdout",
     "output_type": "stream",
     "text": [
      "Grades: A\n"
     ]
    }
   ],
   "source": [
    "print(\"Grades:\", next(grades))"
   ]
  },
  {
   "cell_type": "code",
   "execution_count": 7,
   "id": "1cdd9488-557f-4599-bca7-fc03bda2fcf8",
   "metadata": {},
   "outputs": [
    {
     "name": "stdout",
     "output_type": "stream",
     "text": [
      "Grades: ['D', 'B', 'F']\n"
     ]
    }
   ],
   "source": [
    "print(\"Grades:\", list(grades))"
   ]
  },
  {
   "cell_type": "markdown",
   "id": "19824e32-d139-4820-80fd-f4a8d370f7f9",
   "metadata": {},
   "source": [
    "#### example"
   ]
  },
  {
   "cell_type": "code",
   "execution_count": 8,
   "id": "33151967-7dd4-4454-8fe8-bd424089d286",
   "metadata": {},
   "outputs": [
    {
     "name": "stdout",
     "output_type": "stream",
     "text": [
      "[1, 4, 9, 16, 25]\n"
     ]
    }
   ],
   "source": [
    "numbers = [1,2,3,4,5]\n",
    "def square(x):\n",
    "    return x*x\n",
    "squared = map(square, numbers)\n",
    "print(list(squared))"
   ]
  },
  {
   "cell_type": "markdown",
   "id": "2ce090f0-24ed-425f-b55b-a476d1e37795",
   "metadata": {},
   "source": [
    "#### example"
   ]
  },
  {
   "cell_type": "code",
   "execution_count": 9,
   "id": "3d159357-53b4-4a50-bf13-204ab3f0aa6d",
   "metadata": {},
   "outputs": [
    {
     "name": "stdout",
     "output_type": "stream",
     "text": [
      "['APPLE', 'BANANA', 'CHERRY']\n"
     ]
    }
   ],
   "source": [
    "words = [\"apple\", \"banana\", \"cherry\"]\n",
    "\n",
    "uppercased = map(str.upper, words)\n",
    "print(list(uppercased))"
   ]
  },
  {
   "cell_type": "code",
   "execution_count": 10,
   "id": "f00d122d-630b-4232-aac9-69a15be82b04",
   "metadata": {},
   "outputs": [
    {
     "name": "stdout",
     "output_type": "stream",
     "text": [
      "[4, 8, 12, 16]\n"
     ]
    }
   ],
   "source": [
    "nums = [2,4,6,8]\n",
    "\n",
    "doubled = map(lambda x : x*2, nums)\n",
    "print(list(doubled))"
   ]
  },
  {
   "cell_type": "code",
   "execution_count": 11,
   "id": "e3dde90a-0bb9-4675-a137-fce60404e8e2",
   "metadata": {},
   "outputs": [
    {
     "name": "stdout",
     "output_type": "stream",
     "text": [
      "[5, 7, 9]\n"
     ]
    }
   ],
   "source": [
    "a =[1,2,3]\n",
    "b=[4,5,6]\n",
    "result = map(lambda x,y :x+y, a,b)\n",
    "print(list(result))"
   ]
  },
  {
   "cell_type": "markdown",
   "id": "0b0dd3d6-4dd4-4aac-9d36-931c28c7122b",
   "metadata": {},
   "source": [
    "## Map vs List comprehension\n"
   ]
  },
  {
   "cell_type": "markdown",
   "id": "9b1aa98f-aa45-470a-8149-f987760757b9",
   "metadata": {},
   "source": [
    "#### example 1"
   ]
  },
  {
   "cell_type": "markdown",
   "id": "278daa41-811b-48c6-a08b-c85f5e3eb8f1",
   "metadata": {},
   "source": [
    "map()"
   ]
  },
  {
   "cell_type": "code",
   "execution_count": 12,
   "id": "87c2f81b-fe7a-4d55-85cc-cc4c732f3c04",
   "metadata": {},
   "outputs": [
    {
     "name": "stdout",
     "output_type": "stream",
     "text": [
      "['Alice', 'Bob', 'Charlie']\n"
     ]
    }
   ],
   "source": [
    "names = [' alice ', 'BOB', ' ChArLie  ']\n",
    "cleaned = map(lambda name : name.strip().title(), names)\n",
    "print(list(cleaned))"
   ]
  },
  {
   "cell_type": "markdown",
   "id": "690c2eac-a85a-4ba4-977a-f6fd2857921d",
   "metadata": {},
   "source": [
    "using list comprehension"
   ]
  },
  {
   "cell_type": "code",
   "execution_count": 15,
   "id": "67641618-dc46-4e9f-8af3-2997e39809ee",
   "metadata": {},
   "outputs": [
    {
     "name": "stdout",
     "output_type": "stream",
     "text": [
      "['Alice', 'Bob', 'Charlie']\n"
     ]
    }
   ],
   "source": [
    "names = [' alice ', 'BOB', ' ChArLie  ']\n",
    "cleaned = ( name.strip().title() for name in names)\n",
    "print(list(cleaned))"
   ]
  },
  {
   "cell_type": "markdown",
   "id": "b964dcce-db4b-4bc2-ab0f-05c24065d93f",
   "metadata": {},
   "source": [
    "#### example 2"
   ]
  },
  {
   "cell_type": "markdown",
   "id": "a3c216cd-d7cf-47d5-b4ce-7062e76e02e9",
   "metadata": {},
   "source": [
    "### using map()"
   ]
  },
  {
   "cell_type": "code",
   "execution_count": 16,
   "id": "9c3ce327-37ba-465d-8350-ccbd5af96336",
   "metadata": {},
   "outputs": [
    {
     "name": "stdout",
     "output_type": "stream",
     "text": [
      "[5, 7, 9]\n"
     ]
    }
   ],
   "source": [
    "a = [1, 2, 3]\n",
    "b = [4, 5, 6]\n",
    "result = list(map(lambda x, y: x + y, a, b))\n",
    "print(result)  "
   ]
  },
  {
   "cell_type": "markdown",
   "id": "ba4ff761-7b28-42ad-9f8f-cf78f618f526",
   "metadata": {},
   "source": [
    "### using list comprehension"
   ]
  },
  {
   "cell_type": "code",
   "execution_count": 19,
   "id": "80acac7e-3273-42ce-af5b-8ed56e5f1097",
   "metadata": {},
   "outputs": [
    {
     "name": "stdout",
     "output_type": "stream",
     "text": [
      "[5, 7, 9]\n"
     ]
    }
   ],
   "source": [
    "a = [1, 2, 3]\n",
    "b = [4, 5, 6]\n",
    "result = [ x+y for x,y in zip(a,b)]\n",
    "print(result)"
   ]
  },
  {
   "cell_type": "code",
   "execution_count": null,
   "id": "533a04b7-f0e2-42f1-8780-31d8903e02d2",
   "metadata": {},
   "outputs": [],
   "source": []
  }
 ],
 "metadata": {
  "kernelspec": {
   "display_name": "Python 3 (ipykernel)",
   "language": "python",
   "name": "python3"
  },
  "language_info": {
   "codemirror_mode": {
    "name": "ipython",
    "version": 3
   },
   "file_extension": ".py",
   "mimetype": "text/x-python",
   "name": "python",
   "nbconvert_exporter": "python",
   "pygments_lexer": "ipython3",
   "version": "3.11.9"
  }
 },
 "nbformat": 4,
 "nbformat_minor": 5
}
