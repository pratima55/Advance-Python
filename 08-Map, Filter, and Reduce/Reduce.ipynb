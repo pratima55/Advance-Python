{
 "cells": [
  {
   "cell_type": "markdown",
   "id": "92bc70dd-0bcc-4e8f-a282-24cd4df90e73",
   "metadata": {},
   "source": [
    "# reduce()"
   ]
  },
  {
   "cell_type": "markdown",
   "id": "dfffa550-c54f-4b95-b8bd-a0c49b43afdc",
   "metadata": {},
   "source": [
    "#### This is built in higher order function defined functools module"
   ]
  },
  {
   "cell_type": "markdown",
   "id": "9545b068-53ed-4c4d-bffc-987085083050",
   "metadata": {},
   "source": [
    "#### syntxas:\n",
    "#### import functools\n",
    "#### functools.reduce(function_name, iterable)"
   ]
  },
  {
   "cell_type": "code",
   "execution_count": 1,
   "id": "bdc5de95-6694-4a46-8a72-574d0c0ab386",
   "metadata": {},
   "outputs": [],
   "source": [
    "# It doesnt return another iterable but returns a single reduced value."
   ]
  },
  {
   "cell_type": "code",
   "execution_count": 3,
   "id": "73c39109-0ea3-4398-872b-a756f1ac0c18",
   "metadata": {},
   "outputs": [
    {
     "data": {
      "text/plain": [
       "15"
      ]
     },
     "execution_count": 3,
     "metadata": {},
     "output_type": "execute_result"
    }
   ],
   "source": [
    "import functools\n",
    "nums = [1,2,3,4,5]\n",
    "def func(a,b):\n",
    "    return a+b\n",
    "\n",
    "functools.reduce(func,nums)"
   ]
  },
  {
   "cell_type": "code",
   "execution_count": 5,
   "id": "1608a804-ec5d-4c0c-ad93-b12f74725e05",
   "metadata": {},
   "outputs": [
    {
     "data": {
      "text/plain": [
       "5"
      ]
     },
     "execution_count": 5,
     "metadata": {},
     "output_type": "execute_result"
    }
   ],
   "source": [
    "nums = [1,2,3,4,5]\n",
    "def max1(a,b):\n",
    "    if a> b:\n",
    "        return a\n",
    "    else:\n",
    "        return b\n",
    "\n",
    "functools.reduce(max1,nums)"
   ]
  },
  {
   "cell_type": "code",
   "execution_count": 6,
   "id": "e7786ca5-64d2-4320-8a93-52b78702ba87",
   "metadata": {},
   "outputs": [
    {
     "name": "stdout",
     "output_type": "stream",
     "text": [
      "15\n"
     ]
    }
   ],
   "source": [
    "from functools import reduce\n",
    "numbers = [1, 2, 3, 4, 5]\n",
    "total = reduce(lambda x , y: x +y, numbers)\n",
    "print(total)"
   ]
  },
  {
   "cell_type": "code",
   "execution_count": 7,
   "id": "2c4792e9-bd4d-4427-9c61-06639318e7dc",
   "metadata": {},
   "outputs": [
    {
     "name": "stdout",
     "output_type": "stream",
     "text": [
      "120\n"
     ]
    }
   ],
   "source": [
    "numbers = [1, 2, 3, 4, 5]\n",
    "product = reduce(lambda x,y : x*y, numbers)\n",
    "print(product)"
   ]
  },
  {
   "cell_type": "code",
   "execution_count": null,
   "id": "e6758719-0a42-4340-9eea-92669dcbb125",
   "metadata": {},
   "outputs": [],
   "source": [
    "nums = [1,2,3]\n",
    "result = reduce(lambda x,y :x +y, num)"
   ]
  }
 ],
 "metadata": {
  "kernelspec": {
   "display_name": "Python 3 (ipykernel)",
   "language": "python",
   "name": "python3"
  },
  "language_info": {
   "codemirror_mode": {
    "name": "ipython",
    "version": 3
   },
   "file_extension": ".py",
   "mimetype": "text/x-python",
   "name": "python",
   "nbconvert_exporter": "python",
   "pygments_lexer": "ipython3",
   "version": "3.11.9"
  }
 },
 "nbformat": 4,
 "nbformat_minor": 5
}
