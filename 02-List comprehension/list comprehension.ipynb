{
 "cells": [
  {
   "cell_type": "markdown",
   "id": "074b5981-91bc-4f41-acbb-bb70d35bc259",
   "metadata": {},
   "source": [
    "## Example 1\n"
   ]
  },
  {
   "cell_type": "markdown",
   "id": "40080faf-e963-421b-9b6a-3ae5010f2885",
   "metadata": {},
   "source": [
    "#### Example without list comprehension\n"
   ]
  },
  {
   "cell_type": "code",
   "execution_count": 2,
   "id": "659aeff1-fb7b-4435-a2f9-a99bcd6d28c1",
   "metadata": {},
   "outputs": [
    {
     "name": "stdout",
     "output_type": "stream",
     "text": [
      "['apple', 'banana', 'mango']\n"
     ]
    }
   ],
   "source": [
    "fruits = [\"apple\", \"banana\", \"cherry\", \"kiwi\", \"mango\"]\n",
    "newlist = []\n",
    "for x in fruits:\n",
    "    if \"a\" in x:\n",
    "        newlist.append(x)\n",
    "print(newlist)        "
   ]
  },
  {
   "cell_type": "markdown",
   "id": "1f17ada1-c33e-416e-82dd-e21342c4f21a",
   "metadata": {},
   "source": [
    "#### Example with list comprehension"
   ]
  },
  {
   "cell_type": "code",
   "execution_count": 3,
   "id": "52c2816a-ac87-49ca-b1d9-ecd175ff9a07",
   "metadata": {},
   "outputs": [
    {
     "name": "stdout",
     "output_type": "stream",
     "text": [
      "['apple', 'banana', 'mango']\n"
     ]
    }
   ],
   "source": [
    "fruits = [\"apple\", \"banana\", \"cherry\", \"kiwi\", \"mango\"]\n",
    "newlist = [each_fruits for each_fruits in fruits if \"a\" in each_fruits]\n",
    "print(newlist)"
   ]
  },
  {
   "cell_type": "markdown",
   "id": "ea828294-80a3-47c1-9679-41e9f9db6a57",
   "metadata": {},
   "source": [
    "### Example 2"
   ]
  },
  {
   "cell_type": "markdown",
   "id": "9a8fd324-dc7c-4939-a73b-275b3f269eaa",
   "metadata": {},
   "source": [
    "#### Without list comprehension"
   ]
  },
  {
   "cell_type": "code",
   "execution_count": 4,
   "id": "ba408276-5c2c-4e2d-8442-83354ca1c29e",
   "metadata": {},
   "outputs": [
    {
     "name": "stdout",
     "output_type": "stream",
     "text": [
      "['h', 'u', 'm', 'a', 'n']\n"
     ]
    }
   ],
   "source": [
    "h_letter =[]\n",
    "for letter in \"human\":\n",
    "    h_letter.append(letter)\n",
    "print(h_letter)    "
   ]
  },
  {
   "cell_type": "markdown",
   "id": "bd3f04e1-f505-4730-867c-ba2a9b17c707",
   "metadata": {},
   "source": [
    "#### With list comprehension"
   ]
  },
  {
   "cell_type": "code",
   "execution_count": 5,
   "id": "933751ab-6534-4372-b861-f3f5389c5209",
   "metadata": {},
   "outputs": [
    {
     "name": "stdout",
     "output_type": "stream",
     "text": [
      "['h', 'u', 'm', 'a', 'n']\n"
     ]
    }
   ],
   "source": [
    "h_letter = [ letter for letter in \"human\" ]\n",
    "print(h_letter)"
   ]
  },
  {
   "cell_type": "markdown",
   "id": "0b6f6c3f-03b0-4e25-9ffc-be55256ba726",
   "metadata": {},
   "source": [
    "## Example 3"
   ]
  },
  {
   "cell_type": "markdown",
   "id": "b7abcab2-391d-442b-ac31-7d73890a65db",
   "metadata": {},
   "source": [
    "#### Using if with list comprehension"
   ]
  },
  {
   "cell_type": "code",
   "execution_count": 6,
   "id": "4b832806-b364-41a2-a7fa-1c93a0374687",
   "metadata": {},
   "outputs": [
    {
     "name": "stdout",
     "output_type": "stream",
     "text": [
      "[0, 2, 4, 6, 8, 10, 12, 14, 16, 18]\n"
     ]
    }
   ],
   "source": [
    "number_list = [x for x in range(20) if x%2 ==0]\n",
    "print(number_list)"
   ]
  },
  {
   "cell_type": "markdown",
   "id": "7d0ba999-67ef-496c-aa1c-62fea796726d",
   "metadata": {},
   "source": [
    "## Example 4"
   ]
  },
  {
   "cell_type": "markdown",
   "id": "e99f5dd2-7de2-4671-af8b-25198bfe3613",
   "metadata": {},
   "source": [
    " #### Nested if with list comprehension"
   ]
  },
  {
   "cell_type": "code",
   "execution_count": 7,
   "id": "ffe6b826-a2ac-4a77-89fb-fe29a760798b",
   "metadata": {},
   "outputs": [
    {
     "name": "stdout",
     "output_type": "stream",
     "text": [
      "[0, 35, 70]\n"
     ]
    }
   ],
   "source": [
    "num_list = [y for y in range(100) if y%7 ==0 if y%5 ==0]\n",
    "print(num_list)"
   ]
  },
  {
   "cell_type": "markdown",
   "id": "5cc3f122-75dc-496a-bf9c-a52b74804890",
   "metadata": {},
   "source": [
    " ## Example 5"
   ]
  },
  {
   "cell_type": "markdown",
   "id": "0834afc3-18cc-47d1-b21a-daee707879cc",
   "metadata": {},
   "source": [
    "#### if..else with list comprehension"
   ]
  },
  {
   "cell_type": "code",
   "execution_count": 8,
   "id": "885752f1-7b22-4c11-a8d2-1cc66a956e35",
   "metadata": {},
   "outputs": [
    {
     "name": "stdout",
     "output_type": "stream",
     "text": [
      "['even', 'odd', 'even', 'odd', 'even', 'odd', 'even', 'odd', 'even', 'odd']\n"
     ]
    }
   ],
   "source": [
    "obj = [\"even\" if i%2 == 0 else \"odd\" for i in range(10)]\n",
    "print(obj)"
   ]
  },
  {
   "cell_type": "markdown",
   "id": "7370b85f-82bf-412d-b3a3-e68b10f88627",
   "metadata": {},
   "source": [
    "## Example 6"
   ]
  },
  {
   "cell_type": "markdown",
   "id": "aee0ce30-0729-47f8-8f6c-d4719317ed02",
   "metadata": {},
   "source": [
    "#### Show the first letter of each word"
   ]
  },
  {
   "cell_type": "code",
   "execution_count": 9,
   "id": "db8f1b4d-da91-4ffe-a65a-a6a7cb7fc398",
   "metadata": {},
   "outputs": [
    {
     "name": "stdout",
     "output_type": "stream",
     "text": [
      "['l', 't', 'a', 'b', 'o', 'w']\n"
     ]
    }
   ],
   "source": [
    "listofwords = [\"list\", \"this\", \"apple\",\"b\", \"of\",\"words\"]\n",
    "items = [word[0] for word in listofwords]\n",
    "print(items)"
   ]
  },
  {
   "cell_type": "markdown",
   "id": "cb40d68b-8663-42b9-893e-c0b840e4f10b",
   "metadata": {},
   "source": [
    "## Example 7"
   ]
  },
  {
   "cell_type": "markdown",
   "id": "82d7ef1a-694c-4b77-8dc4-c94b46292682",
   "metadata": {},
   "source": [
    "#### Lower/Upper case converter"
   ]
  },
  {
   "cell_type": "code",
   "execution_count": 11,
   "id": "e6c60ba1-339e-4087-b93d-c113eb2d8172",
   "metadata": {},
   "outputs": [
    {
     "name": "stdout",
     "output_type": "stream",
     "text": [
      "['l', 'e', 't', 't', 'e', 'r']\n"
     ]
    }
   ],
   "source": [
    "words = \"LETTER\"\n",
    "conv = [word.lower() for word in words ]\n",
    "print(conv)"
   ]
  },
  {
   "cell_type": "code",
   "execution_count": 12,
   "id": "372327fc-527e-4609-aac7-6e54ee1c7d5e",
   "metadata": {},
   "outputs": [
    {
     "name": "stdout",
     "output_type": "stream",
     "text": [
      "['L', 'E', 'T', 'E', 'T', 'R']\n"
     ]
    }
   ],
   "source": [
    "words = \"letetr\"\n",
    "conv = [word.upper() for word in words ]\n",
    "print(conv)"
   ]
  },
  {
   "cell_type": "markdown",
   "id": "5a57f712-3148-4ade-9c3d-f075c98623a6",
   "metadata": {},
   "source": [
    "## Example"
   ]
  },
  {
   "cell_type": "code",
   "execution_count": 14,
   "id": "82ab9ca0-94cb-4cc9-935d-2af97a3bd40f",
   "metadata": {},
   "outputs": [],
   "source": [
    "#create a function and name it double:\n",
    "def double(x):\n",
    "    return x*2"
   ]
  },
  {
   "cell_type": "code",
   "execution_count": 15,
   "id": "019cac74-95c7-4305-81c1-e2458e1eae6d",
   "metadata": {},
   "outputs": [
    {
     "data": {
      "text/plain": [
       "[0, 2, 4, 6, 8, 10, 12, 14, 16, 18]"
      ]
     },
     "execution_count": 15,
     "metadata": {},
     "output_type": "execute_result"
    }
   ],
   "source": [
    "[double(x) for x in range(10)]"
   ]
  },
  {
   "cell_type": "markdown",
   "id": "70640007-d6e2-4c37-ad0d-4e554fc2d7ad",
   "metadata": {},
   "source": [
    "## Using set and Dictionary Comprehension"
   ]
  },
  {
   "cell_type": "code",
   "execution_count": 20,
   "id": "3f1ea5dc-9dc3-4418-a214-16faf30a8b0e",
   "metadata": {},
   "outputs": [
    {
     "data": {
      "text/plain": [
       "{'a', 'e', 'i', 'u'}"
      ]
     },
     "execution_count": 20,
     "metadata": {},
     "output_type": "execute_result"
    }
   ],
   "source": [
    "text = \"life, uh, find a way, in a great way indeed\"\n",
    "unique_vowels = {each_letter for each_letter in text if each_letter in \"aeiou\"}\n",
    "unique_vowels"
   ]
  },
  {
   "cell_type": "markdown",
   "id": "3a7e3d8e-727d-4982-9f04-38ba4369695c",
   "metadata": {},
   "source": [
    "#### Dictionary comprehensios are similar, with the additional requrement of defining a key:"
   ]
  },
  {
   "cell_type": "code",
   "execution_count": 18,
   "id": "41a13976-060b-4f8b-8484-67a13a3bac08",
   "metadata": {},
   "outputs": [
    {
     "name": "stdout",
     "output_type": "stream",
     "text": [
      "{0: 0, 1: 1, 2: 4, 3: 9, 4: 16, 5: 25, 6: 36, 7: 49, 8: 64, 9: 81}\n"
     ]
    }
   ],
   "source": [
    "squares = { i: i*i for i in range(10)}\n",
    "print (squares)"
   ]
  },
  {
   "cell_type": "markdown",
   "id": "697af2e2-1d74-416e-ba39-df09ca691c03",
   "metadata": {},
   "source": [
    "## Example"
   ]
  },
  {
   "cell_type": "code",
   "execution_count": 21,
   "id": "c45e8a86-c345-4514-bc31-bfdf46588581",
   "metadata": {},
   "outputs": [
    {
     "name": "stdout",
     "output_type": "stream",
     "text": [
      "[(0, 0), (0, 1), (0, 2), (1, 0), (1, 1), (1, 2), (2, 0), (2, 1), (2, 2)]\n"
     ]
    }
   ],
   "source": [
    "coordinates = [(x,y) for x in range(3) for y in range(3)]\n",
    "print(coordinates)"
   ]
  },
  {
   "cell_type": "code",
   "execution_count": null,
   "id": "fefda7f1-15e5-4618-b257-02842b294cc7",
   "metadata": {},
   "outputs": [],
   "source": []
  }
 ],
 "metadata": {
  "kernelspec": {
   "display_name": "Python 3 (ipykernel)",
   "language": "python",
   "name": "python3"
  },
  "language_info": {
   "codemirror_mode": {
    "name": "ipython",
    "version": 3
   },
   "file_extension": ".py",
   "mimetype": "text/x-python",
   "name": "python",
   "nbconvert_exporter": "python",
   "pygments_lexer": "ipython3",
   "version": "3.11.9"
  }
 },
 "nbformat": 4,
 "nbformat_minor": 5
}
