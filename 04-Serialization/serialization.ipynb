{
 "cells": [
  {
   "cell_type": "code",
   "execution_count": 1,
   "id": "54ec872d-0d22-4c40-ac90-5096273ade5b",
   "metadata": {},
   "outputs": [],
   "source": [
    "import pickle"
   ]
  },
  {
   "cell_type": "markdown",
   "id": "525df6ce-a297-463c-84f5-cbbdeadef104",
   "metadata": {},
   "source": [
    "#### serialize/ pickle/ dump"
   ]
  },
  {
   "cell_type": "code",
   "execution_count": 8,
   "id": "f482988d-22a2-40b7-80c8-ed7723cdf6c6",
   "metadata": {},
   "outputs": [],
   "source": [
    "f = open(\"pickle.txt\", \"wb\")\n",
    "dct ={\"name\": \"Rajeev\", \"age\":23,\"gender\": \"male\" , \"marks\":78}\n",
    "pickle.dump(dct,f)\n",
    "f.close()"
   ]
  },
  {
   "cell_type": "markdown",
   "id": "9efcf272-eda1-459f-a89b-4f2130e18247",
   "metadata": {},
   "source": [
    "#### Deserialize / unpickle/ load"
   ]
  },
  {
   "cell_type": "code",
   "execution_count": 11,
   "id": "a440b52e-969a-41f3-8e28-9f1dc5edf439",
   "metadata": {},
   "outputs": [
    {
     "name": "stdout",
     "output_type": "stream",
     "text": [
      "{'name': 'Rajeev', 'age': 23, 'gender': 'male', 'marks': 78}\n"
     ]
    }
   ],
   "source": [
    "f = open(\"pickle.txt\",\"rb\")\n",
    "d = pickle.load(f)\n",
    "print(d)\n",
    "f.close()"
   ]
  },
  {
   "cell_type": "markdown",
   "id": "8c34ace8-ce9a-4638-b08a-ad6a8ac02c32",
   "metadata": {},
   "source": [
    "#### Example"
   ]
  },
  {
   "cell_type": "code",
   "execution_count": 14,
   "id": "7ba656be-a230-4d85-ae4d-5fdfe855558a",
   "metadata": {},
   "outputs": [],
   "source": [
    "def storeData():\n",
    "    #initialization data to be stored in db\n",
    "    Pratima = {\"key\" : \"Pratima\", \"name\": \"Pratima Dhakal\", \"age\": 23, \"pay\" : 40000}\n",
    "    Aanshi = {\"key\" :\"Aanshi\", \"name\" : \"Aanshi Adhikari\", \"age\": 22, \"pay\": 30000}\n",
    "\n",
    "    #database\n",
    "    db = {}\n",
    "    db[\"Pratima\"] = Pratima\n",
    "    db[\"Aanshi\"] = Aanshi\n",
    "    \n",
    "    #Its important to use binary mode\n",
    "    dbfile = open(\"examplePickle\", \"ab\")\n",
    "\n",
    "    #source, destination\n",
    "    pickle.dump(db, dbfile)\n",
    "    dbfile.close()"
   ]
  },
  {
   "cell_type": "code",
   "execution_count": 15,
   "id": "5a1690f9-b8da-4419-8750-6899d6c0a139",
   "metadata": {},
   "outputs": [],
   "source": [
    "def loadData():\n",
    "    #for reading also binary mode is important\n",
    "    dbfile = open(\"examplePickle\", \"rb\")\n",
    "\n",
    "    db = pickle.load(dbfile)\n",
    "\n",
    "    for keys in db:\n",
    "        print(keys, \"=>\", db[keys])\n",
    "\n",
    "        dbfile.close()\n",
    "    \n",
    "    "
   ]
  },
  {
   "cell_type": "code",
   "execution_count": 16,
   "id": "18647040-8f69-4081-8f01-7f083a917a95",
   "metadata": {},
   "outputs": [],
   "source": [
    "storeData()"
   ]
  },
  {
   "cell_type": "code",
   "execution_count": 17,
   "id": "e13bc29f-56b6-4038-a725-e0a4911409e0",
   "metadata": {},
   "outputs": [
    {
     "name": "stdout",
     "output_type": "stream",
     "text": [
      "Pratima => {'key': 'Pratima', 'name': 'Pratima Dhakal', 'age': 23, 'pay': 40000}\n",
      "Aanshi => {'key': 'Aanshi', 'name': 'Aanshi Adhikari', 'age': 22, 'pay': 30000}\n"
     ]
    }
   ],
   "source": [
    "loadData()"
   ]
  },
  {
   "cell_type": "code",
   "execution_count": null,
   "id": "0f2eadf2-dfff-4930-ac19-00b32c1eee0c",
   "metadata": {},
   "outputs": [],
   "source": []
  }
 ],
 "metadata": {
  "kernelspec": {
   "display_name": "Python 3 (ipykernel)",
   "language": "python",
   "name": "python3"
  },
  "language_info": {
   "codemirror_mode": {
    "name": "ipython",
    "version": 3
   },
   "file_extension": ".py",
   "mimetype": "text/x-python",
   "name": "python",
   "nbconvert_exporter": "python",
   "pygments_lexer": "ipython3",
   "version": "3.11.9"
  }
 },
 "nbformat": 4,
 "nbformat_minor": 5
}
