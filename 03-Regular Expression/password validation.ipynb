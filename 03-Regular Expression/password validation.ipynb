{
 "cells": [
  {
   "cell_type": "markdown",
   "id": "d5290588-0f84-40ee-a9de-030ff09cb771",
   "metadata": {},
   "source": [
    "#### Without using re"
   ]
  },
  {
   "cell_type": "code",
   "execution_count": 3,
   "id": "629afd37-d274-40ee-950b-fdf1149fb7b5",
   "metadata": {},
   "outputs": [
    {
     "name": "stdout",
     "output_type": "stream",
     "text": [
      "Password is valid\n"
     ]
    }
   ],
   "source": [
    "# Password validation in Python\n",
    "# using naive method\n",
    "\n",
    "# Function to validate the password\n",
    "def password_check(passwd):\n",
    "\t\n",
    "\tSpecialSym =['$', '@', '#', '%']\n",
    "\tval = True\n",
    "\t\n",
    "\tif len(passwd) < 6:\n",
    "\t\tprint('length should be at least 6')\n",
    "\t\tval = False\n",
    "\t\t\n",
    "\tif len(passwd) > 20:\n",
    "\t\tprint('length should be not be greater than 8')\n",
    "\t\tval = False\n",
    "\t\t\n",
    "\tif not any(char.isdigit() for char in passwd):\n",
    "\t\tprint('Password should have at least one numeral')\n",
    "\t\tval = False\n",
    "\t\t\n",
    "\tif not any(char.isupper() for char in passwd):\n",
    "\t\tprint('Password should have at least one uppercase letter')\n",
    "\t\tval = False\n",
    "\t\t\n",
    "\tif not any(char.islower() for char in passwd):\n",
    "\t\tprint('Password should have at least one lowercase letter')\n",
    "\t\tval = False\n",
    "\t\t\n",
    "\tif not any(char in SpecialSym for char in passwd):\n",
    "\t\tprint('Password should have at least one of the symbols $@#')\n",
    "\t\tval = False\n",
    "\tif val:\n",
    "\t\treturn val\n",
    "\n",
    "# Main method\n",
    "def main():\n",
    "\tpasswd = 'Geek12@'\n",
    "\t\n",
    "\tif (password_check(passwd)):\n",
    "\t\tprint(\"Password is valid\")\n",
    "\telse:\n",
    "\t\tprint(\"Invalid Password !!\")\n",
    "\t\t\n",
    "# Driver Code\t \n",
    "if __name__ == '__main__':\n",
    "\tmain()\n"
   ]
  },
  {
   "cell_type": "markdown",
   "id": "064b8517-ee7e-43b3-a18c-c4c1d035fb68",
   "metadata": {},
   "source": [
    "#### Using re"
   ]
  },
  {
   "cell_type": "code",
   "execution_count": 2,
   "id": "59a09ecb-3056-4a39-bf97-8266466a27e7",
   "metadata": {},
   "outputs": [
    {
     "name": "stdout",
     "output_type": "stream",
     "text": [
      "Password is valid.\n"
     ]
    }
   ],
   "source": [
    "# importing re library\n",
    "import re\n",
    "\n",
    "def main():\n",
    "\tpasswd = 'Geek12@'\n",
    "\treg = \"^(?=.*[a-z])(?=.*[A-Z])(?=.*\\d)(?=.*[@$!%*#?&])[A-Za-z\\d@$!#%*?&]{6,20}$\"\n",
    "\t\n",
    "\t# compiling regex\n",
    "\tpat = re.compile(reg)\n",
    "\t\n",
    "\t# searching regex\t\t\t\t \n",
    "\tmat = re.search(pat, passwd)\n",
    "\t\n",
    "\t# validating conditions\n",
    "\tif mat:\n",
    "\t\tprint(\"Password is valid.\")\n",
    "\telse:\n",
    "\t\tprint(\"Password invalid !!\")\n",
    "\n",
    "# Driver Code\t \n",
    "if __name__ == '__main__':\n",
    "\tmain()\n"
   ]
  },
  {
   "cell_type": "code",
   "execution_count": null,
   "id": "e606f5d0-9d36-41fd-b36b-9b78cb32ab54",
   "metadata": {},
   "outputs": [],
   "source": []
  },
  {
   "cell_type": "code",
   "execution_count": null,
   "id": "32ee576b-c165-4523-893c-0c4530c310a8",
   "metadata": {},
   "outputs": [],
   "source": []
  },
  {
   "cell_type": "code",
   "execution_count": null,
   "id": "c88177fb-6905-4c4a-b798-ceea56d65428",
   "metadata": {},
   "outputs": [],
   "source": []
  }
 ],
 "metadata": {
  "kernelspec": {
   "display_name": "Python 3 (ipykernel)",
   "language": "python",
   "name": "python3"
  },
  "language_info": {
   "codemirror_mode": {
    "name": "ipython",
    "version": 3
   },
   "file_extension": ".py",
   "mimetype": "text/x-python",
   "name": "python",
   "nbconvert_exporter": "python",
   "pygments_lexer": "ipython3",
   "version": "3.11.9"
  }
 },
 "nbformat": 4,
 "nbformat_minor": 5
}
