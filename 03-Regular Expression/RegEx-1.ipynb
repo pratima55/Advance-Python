{
 "cells": [
  {
   "cell_type": "code",
   "execution_count": 1,
   "id": "636ceca7-f90f-4fe2-9904-7f906d6b5aac",
   "metadata": {},
   "outputs": [],
   "source": [
    "import re"
   ]
  },
  {
   "cell_type": "code",
   "execution_count": 2,
   "id": "18bba7b4-8dc4-4b66-8bc3-ecd1d248b688",
   "metadata": {},
   "outputs": [
    {
     "name": "stdout",
     "output_type": "stream",
     "text": [
      "Search unsucessful\n"
     ]
    }
   ],
   "source": [
    "pattern = \"^a...s$\"\n",
    "test_string = \"abbbyss\"\n",
    "\n",
    "result = re.match(pattern, test_string)\n",
    "if result:\n",
    "    print(\"Search sucessful.\")\n",
    "\n",
    "else:\n",
    "    print(\"Search unsucessful\")"
   ]
  },
  {
   "cell_type": "code",
   "execution_count": 3,
   "id": "8cf6dc0d-cde0-4e83-acbc-28b077a1486c",
   "metadata": {},
   "outputs": [
    {
     "name": "stdout",
     "output_type": "stream",
     "text": [
      "None\n"
     ]
    }
   ],
   "source": [
    "input_str = \"thhe film Titanic was released in 1998\"\n",
    "result = re.match(r\"[abc]\", input_str)\n",
    "print(result)"
   ]
  },
  {
   "cell_type": "markdown",
   "id": "fddaed31-2a74-4edf-a4ba-61eb377f4990",
   "metadata": {},
   "source": [
    "#### Using re.match()"
   ]
  },
  {
   "cell_type": "code",
   "execution_count": 4,
   "id": "a0c7a36f-1b62-4c7c-a14d-8be4af7b05ce",
   "metadata": {},
   "outputs": [
    {
     "name": "stdout",
     "output_type": "stream",
     "text": [
      "<re.Match object; span=(0, 1), match='a'>\n"
     ]
    }
   ],
   "source": [
    "input_str = \"abba film Titanic was released in 1998\"\n",
    "result = re.match(r\"[abc]\", input_str)\n",
    "print(result)"
   ]
  },
  {
   "cell_type": "markdown",
   "id": "66cb3e2a-7522-4e16-b0cc-9d55c59b67ef",
   "metadata": {},
   "source": [
    "#### Using re.search() "
   ]
  },
  {
   "cell_type": "code",
   "execution_count": 6,
   "id": "6d233b0b-e7a3-476b-8e9b-7f40eeae4e47",
   "metadata": {},
   "outputs": [
    {
     "name": "stdout",
     "output_type": "stream",
     "text": [
      "<re.Match object; span=(9, 10), match='a'>\n"
     ]
    }
   ],
   "source": [
    "input_str = \" film Titanic was released in 1998\"\n",
    "result = re.search(r\"[abc]\", input_str)\n",
    "print(result)"
   ]
  },
  {
   "cell_type": "markdown",
   "id": "5ca62779-6c0f-4e97-8d19-e8b855e1ae90",
   "metadata": {},
   "source": [
    "#### Using re.findall()"
   ]
  },
  {
   "cell_type": "code",
   "execution_count": 9,
   "id": "4febff2a-d5ac-4ea6-85be-3d74e2a4adb9",
   "metadata": {},
   "outputs": [
    {
     "name": "stdout",
     "output_type": "stream",
     "text": [
      "['a', 'b', 'b', 'a', 'a', 'c', 'a', 'a']\n"
     ]
    }
   ],
   "source": [
    "input_str = \"abba film Titanic was released in 1998\"\n",
    "result = re.findall(r\"[abc]\", input_str)\n",
    "print(result)"
   ]
  },
  {
   "cell_type": "code",
   "execution_count": 10,
   "id": "fe12291e-5bfb-499a-bcf0-ad4d1609559e",
   "metadata": {},
   "outputs": [
    {
     "name": "stdout",
     "output_type": "stream",
     "text": [
      "['123']\n"
     ]
    }
   ],
   "source": [
    "print(re.findall(r'[0-9]{2,4}',\"ab123csde\"))"
   ]
  },
  {
   "cell_type": "code",
   "execution_count": 12,
   "id": "d8652174-29a7-470d-8c4b-95a7bbc013fe",
   "metadata": {},
   "outputs": [
    {
     "name": "stdout",
     "output_type": "stream",
     "text": [
      "['12', '3456', '3412', '27', '4567', '88']\n"
     ]
    }
   ],
   "source": [
    "print(re.findall(r'[0-9]{2,4}',\"1 12 and 3456 and 341227 also 456788\"))"
   ]
  },
  {
   "cell_type": "code",
   "execution_count": null,
   "id": "f5b8cb1d-2e50-4165-9f1f-0e37d991e179",
   "metadata": {},
   "outputs": [],
   "source": []
  }
 ],
 "metadata": {
  "kernelspec": {
   "display_name": "Python 3 (ipykernel)",
   "language": "python",
   "name": "python3"
  },
  "language_info": {
   "codemirror_mode": {
    "name": "ipython",
    "version": 3
   },
   "file_extension": ".py",
   "mimetype": "text/x-python",
   "name": "python",
   "nbconvert_exporter": "python",
   "pygments_lexer": "ipython3",
   "version": "3.11.9"
  }
 },
 "nbformat": 4,
 "nbformat_minor": 5
}
