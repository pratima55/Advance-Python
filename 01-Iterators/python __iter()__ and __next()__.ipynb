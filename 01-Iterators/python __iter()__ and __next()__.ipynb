{
 "cells": [
  {
   "cell_type": "code",
   "execution_count": 1,
   "id": "b5cdf455-9288-47ac-a229-c5d6d266035c",
   "metadata": {},
   "outputs": [],
   "source": [
    "#Iterator Protocol:\n",
    " #1. __iter__(): Returns the iterator object itself.\n",
    " #2. __next__(): Returns the next item in the sequence or raise Stopiteration when theere is no more items"
   ]
  },
  {
   "cell_type": "code",
   "execution_count": 2,
   "id": "8b91bd7c-50e2-4d26-b0a4-05bb7d4817b4",
   "metadata": {},
   "outputs": [
    {
     "name": "stdout",
     "output_type": "stream",
     "text": [
      "Print the range without iter(): \n",
      "Counting:  2\n",
      "Counting:  3\n",
      "Counting:  4\n",
      "Counting:  5\n",
      "\n",
      "Print the range using iter():\n",
      "Counting: 2\n",
      "Counting: 3\n",
      "Counting: 4\n",
      "Counting: 5\n",
      "\n",
      "Iteration completed.\n"
     ]
    }
   ],
   "source": [
    "class Counter:\n",
    "    def __init__(self, start, end ):\n",
    "        self.num = start\n",
    "        self.end = end \n",
    "\n",
    "    def __iter__(self):\n",
    "        return self\n",
    "\n",
    "    def __next__(self):\n",
    "        if self.num > self.end:\n",
    "            raise StopIteration\n",
    "\n",
    "        else :\n",
    "            self.num +=1\n",
    "            return self.num -1\n",
    "\n",
    "if __name__ == \"__main__\":\n",
    "    a,b = 2,5\n",
    "    c1 = Counter(a,b)\n",
    "    c2= Counter(a,b)\n",
    "\n",
    "    #Iteration without using iter()\n",
    "    print(\"Print the range without iter(): \")\n",
    "    for i in c1:\n",
    "        print(\"Counting: \" ,i)\n",
    "\n",
    "    print(\"\\nPrint the range using iter():\")\n",
    "\n",
    "    #using iter()\n",
    "    obj = iter(c2)\n",
    "    try:\n",
    "        while True: #Iterate until StopIteration is raised\n",
    "            print(\"Counting:\", next(obj))\n",
    "    except StopIteration:\n",
    "        print(\"\\nIteration completed.\")"
   ]
  },
  {
   "cell_type": "code",
   "execution_count": 5,
   "id": "e12d6995-0cf6-48d8-a353-fe89e40eeaab",
   "metadata": {},
   "outputs": [
    {
     "name": "stdout",
     "output_type": "stream",
     "text": [
      "1\n",
      "2\n",
      "3\n"
     ]
    }
   ],
   "source": [
    "class Count:\n",
    "    def __init__(self, start, end):\n",
    "        self.current = start\n",
    "        self.end = end\n",
    "    \n",
    "    def __iter__(self):\n",
    "        return self\n",
    "    \n",
    "    def __next__(self):\n",
    "        if self.current > self.end:\n",
    "            raise StopIteration\n",
    "        val = self.current\n",
    "        self.current += 1\n",
    "        return val\n",
    "\n",
    "c = Count(1, 3)\n",
    "for i in c:\n",
    "    print(i)  # Output: 1 2 3\n",
    "\n",
    "        \n",
    "       "
   ]
  },
  {
   "cell_type": "code",
   "execution_count": null,
   "id": "2c5e8dcd-a940-4e47-b8db-c8c7366baeea",
   "metadata": {},
   "outputs": [],
   "source": []
  }
 ],
 "metadata": {
  "kernelspec": {
   "display_name": "Python 3 (ipykernel)",
   "language": "python",
   "name": "python3"
  },
  "language_info": {
   "codemirror_mode": {
    "name": "ipython",
    "version": 3
   },
   "file_extension": ".py",
   "mimetype": "text/x-python",
   "name": "python",
   "nbconvert_exporter": "python",
   "pygments_lexer": "ipython3",
   "version": "3.11.9"
  }
 },
 "nbformat": 4,
 "nbformat_minor": 5
}
