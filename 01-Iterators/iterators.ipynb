{
 "cells": [
  {
   "cell_type": "code",
   "execution_count": 1,
   "id": "f2a84db0-66fe-4acb-ae92-262386bae7c7",
   "metadata": {},
   "outputs": [
    {
     "name": "stdout",
     "output_type": "stream",
     "text": [
      "p\n",
      "y\n",
      "t\n",
      "h\n",
      "o\n",
      "n\n"
     ]
    }
   ],
   "source": [
    "for char in \"python\":\n",
    "    print(char)"
   ]
  },
  {
   "cell_type": "code",
   "execution_count": 2,
   "id": "9b90f600-b11f-46a5-a64c-2e40728e3313",
   "metadata": {},
   "outputs": [
    {
     "name": "stdout",
     "output_type": "stream",
     "text": [
      "x\n",
      "y\n"
     ]
    }
   ],
   "source": [
    "for k in {\"x\":1, \"y\":2}:\n",
    "    print(k)"
   ]
  },
  {
   "cell_type": "code",
   "execution_count": 3,
   "id": "444a4f6c-2800-4928-8782-0cffd30167cd",
   "metadata": {},
   "outputs": [
    {
     "name": "stdout",
     "output_type": "stream",
     "text": [
      "1\n",
      "2\n",
      "3\n",
      "4\n"
     ]
    }
   ],
   "source": [
    "for i in [1,2,3,4]:\n",
    "    print(i)\n",
    "    "
   ]
  },
  {
   "cell_type": "code",
   "execution_count": 4,
   "id": "50d623e0-a4c9-488f-abd0-b02cbd4acf8f",
   "metadata": {},
   "outputs": [],
   "source": [
    "my_list = [4,5,6,7,8,9]\n",
    "\n",
    "#get an iterator using iter()\n",
    "my_iter = iter(my_list)"
   ]
  },
  {
   "cell_type": "code",
   "execution_count": 5,
   "id": "18b9fda1-12ce-445e-a623-c60429bf6b35",
   "metadata": {},
   "outputs": [
    {
     "name": "stdout",
     "output_type": "stream",
     "text": [
      "4\n"
     ]
    }
   ],
   "source": [
    "print(next(my_iter))"
   ]
  },
  {
   "cell_type": "code",
   "execution_count": 6,
   "id": "a3b08ae7-e0fc-4ef1-9010-5c384dc1ccd0",
   "metadata": {},
   "outputs": [
    {
     "name": "stdout",
     "output_type": "stream",
     "text": [
      "5\n"
     ]
    }
   ],
   "source": [
    "print(next(my_iter))"
   ]
  },
  {
   "cell_type": "code",
   "execution_count": 7,
   "id": "cc0bb352-c85b-4e79-801b-f6155783e670",
   "metadata": {},
   "outputs": [
    {
     "name": "stdout",
     "output_type": "stream",
     "text": [
      "<list_iterator object at 0x0000028983EF84C0>\n"
     ]
    }
   ],
   "source": [
    "print(my_iter)"
   ]
  },
  {
   "cell_type": "code",
   "execution_count": 8,
   "id": "690cc27d-bbcc-447c-bc0f-9c82eaac0ed3",
   "metadata": {},
   "outputs": [
    {
     "name": "stdout",
     "output_type": "stream",
     "text": [
      "34 is iterable :  False\n",
      "[23, 33] is iterable :  True\n",
      "(4, 5) is iterable :  True\n",
      "{'a': 4} is iterable :  True\n",
      "abcd is iterable :  True\n",
      "3.4 is iterable :  False\n"
     ]
    }
   ],
   "source": [
    "# function to check object is iterable or not\n",
    "\n",
    "def it(ob):\n",
    "    try:\n",
    "        iter(ob)\n",
    "        return True\n",
    "    except TypeError:\n",
    "        return False \n",
    "\n",
    "for i in [34, [23,33], (4,5), {\"a\" : 4}, \"abcd\", 3.4]:\n",
    "    print(i, \"is iterable : \",it(i))\n",
    "        "
   ]
  },
  {
   "cell_type": "code",
   "execution_count": null,
   "id": "9eed85b2-c6a8-4141-941b-f7ed1d4cfa9f",
   "metadata": {},
   "outputs": [],
   "source": []
  }
 ],
 "metadata": {
  "kernelspec": {
   "display_name": "Python 3 (ipykernel)",
   "language": "python",
   "name": "python3"
  },
  "language_info": {
   "codemirror_mode": {
    "name": "ipython",
    "version": 3
   },
   "file_extension": ".py",
   "mimetype": "text/x-python",
   "name": "python",
   "nbconvert_exporter": "python",
   "pygments_lexer": "ipython3",
   "version": "3.11.9"
  }
 },
 "nbformat": 4,
 "nbformat_minor": 5
}
