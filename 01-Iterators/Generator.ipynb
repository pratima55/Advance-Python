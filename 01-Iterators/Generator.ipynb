{
 "cells": [
  {
   "cell_type": "code",
   "execution_count": null,
   "id": "c2cb2441-7971-4cba-ae87-3a75a57abc38",
   "metadata": {},
   "outputs": [],
   "source": [
    "# A generator function that yields 1 for first time, 2 second time and 3 third time\n",
    "def fun():\n",
    "    yield 1\n",
    "    yield 2\n",
    "    yield 3\n",
    "# Driver code to check above generator function\n",
    "for val in func():\n",
    "    print(val)\n",
    "    "
   ]
  }
 ],
 "metadata": {
  "kernelspec": {
   "display_name": "Python 3 (ipykernel)",
   "language": "python",
   "name": "python3"
  },
  "language_info": {
   "codemirror_mode": {
    "name": "ipython",
    "version": 3
   },
   "file_extension": ".py",
   "mimetype": "text/x-python",
   "name": "python",
   "nbconvert_exporter": "python",
   "pygments_lexer": "ipython3",
   "version": "3.11.9"
  }
 },
 "nbformat": 4,
 "nbformat_minor": 5
}
