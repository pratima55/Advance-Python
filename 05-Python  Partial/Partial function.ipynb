{
 "cells": [
  {
   "cell_type": "markdown",
   "id": "6b281053-d74c-4f39-8acd-fc1b9bcdce50",
   "metadata": {},
   "source": [
    "#### Example 1"
   ]
  },
  {
   "cell_type": "code",
   "execution_count": 2,
   "id": "7f0d5125-daa9-44c8-b64e-0bf0bc1e274b",
   "metadata": {},
   "outputs": [],
   "source": [
    "def power(base, exponent):\n",
    "    print(\"{} to the power {} = {}\".format(base, exponent, base ** exponent))\n",
    "    return base ** exponent\n",
    "          "
   ]
  },
  {
   "cell_type": "code",
   "execution_count": 3,
   "id": "eb8d9896-46d5-4fbb-8e60-347aadb1133a",
   "metadata": {},
   "outputs": [],
   "source": [
    "def square(base):\n",
    "    return power(base,2)\n",
    "\n",
    "def cube(base):\n",
    "    return power(base, 3)"
   ]
  },
  {
   "cell_type": "code",
   "execution_count": 4,
   "id": "5850144e-cb91-4b5e-aa5b-6503106ce92c",
   "metadata": {},
   "outputs": [
    {
     "name": "stdout",
     "output_type": "stream",
     "text": [
      "10 to the power 2 = 100\n"
     ]
    },
    {
     "data": {
      "text/plain": [
       "100"
      ]
     },
     "execution_count": 4,
     "metadata": {},
     "output_type": "execute_result"
    }
   ],
   "source": [
    "square(10)"
   ]
  },
  {
   "cell_type": "code",
   "execution_count": 5,
   "id": "fab369c6-c11e-48fa-b15a-09166e5239f8",
   "metadata": {},
   "outputs": [
    {
     "name": "stdout",
     "output_type": "stream",
     "text": [
      "5 to the power 3 = 125\n"
     ]
    },
    {
     "data": {
      "text/plain": [
       "125"
      ]
     },
     "execution_count": 5,
     "metadata": {},
     "output_type": "execute_result"
    }
   ],
   "source": [
    "cube(5)"
   ]
  },
  {
   "cell_type": "code",
   "execution_count": 6,
   "id": "b5db416e-b4df-4355-8cb3-97c351ed0134",
   "metadata": {},
   "outputs": [],
   "source": [
    "from functools import partial\n",
    "\n",
    "square = partial(power, exponent = 2)\n",
    "cube = partial(power, exponent = 3)\n",
    "                 "
   ]
  },
  {
   "cell_type": "code",
   "execution_count": 11,
   "id": "af24905c-428d-4d81-8e2c-709b658308ae",
   "metadata": {},
   "outputs": [
    {
     "name": "stdout",
     "output_type": "stream",
     "text": [
      "2 to the power 2 = 4\n"
     ]
    },
    {
     "data": {
      "text/plain": [
       "4"
      ]
     },
     "execution_count": 11,
     "metadata": {},
     "output_type": "execute_result"
    }
   ],
   "source": [
    " square(2)"
   ]
  },
  {
   "cell_type": "code",
   "execution_count": 12,
   "id": "0f78cb16-0268-473b-8dad-37b09c337ea7",
   "metadata": {},
   "outputs": [
    {
     "name": "stdout",
     "output_type": "stream",
     "text": [
      "3 to the power 3 = 27\n"
     ]
    },
    {
     "data": {
      "text/plain": [
       "27"
      ]
     },
     "execution_count": 12,
     "metadata": {},
     "output_type": "execute_result"
    }
   ],
   "source": [
    "cube(3)"
   ]
  },
  {
   "cell_type": "markdown",
   "id": "d8c9af0a-4c2a-4806-9b13-09f40ab44809",
   "metadata": {},
   "source": [
    "#### Example 2"
   ]
  },
  {
   "cell_type": "code",
   "execution_count": 16,
   "id": "b148cc8e-edaa-40aa-8c3c-ee2eb7a08368",
   "metadata": {},
   "outputs": [],
   "source": [
    "# A normal function\n",
    "def f(a, b, c, x):\n",
    "    return 1000*a + 100*b + 10*c + x\n",
    "    "
   ]
  },
  {
   "cell_type": "code",
   "execution_count": 17,
   "id": "1caebaeb-b559-4866-918d-82898f160f4b",
   "metadata": {},
   "outputs": [],
   "source": [
    "# A partial function that calls f with a as 3, b as 1 and c ans 4.\n",
    "g = partial(f, 3,1,4)"
   ]
  },
  {
   "cell_type": "code",
   "execution_count": 18,
   "id": "5d13090f-88f4-4473-a6e8-3c9c8e047346",
   "metadata": {},
   "outputs": [
    {
     "data": {
      "text/plain": [
       "3150"
      ]
     },
     "execution_count": 18,
     "metadata": {},
     "output_type": "execute_result"
    }
   ],
   "source": [
    "g(10)"
   ]
  },
  {
   "cell_type": "code",
   "execution_count": 20,
   "id": "2c2fbda1-c2c1-4483-af55-354485dc9a63",
   "metadata": {},
   "outputs": [
    {
     "name": "stdout",
     "output_type": "stream",
     "text": [
      "312\n"
     ]
    }
   ],
   "source": [
    "# A normal function \n",
    "def add (a,b,c):\n",
    "    return 100*a + 10*b + c\n",
    "\n",
    "# A partial function with b=1 and c=2\n",
    "add_part = partial(add, c=2, b=1)\n",
    "\n",
    "#calling partial function\n",
    "print(add_part(3))\n",
    "    "
   ]
  },
  {
   "cell_type": "code",
   "execution_count": null,
   "id": "3170b324-cb83-44a0-8121-29c0541f0206",
   "metadata": {},
   "outputs": [],
   "source": []
  }
 ],
 "metadata": {
  "kernelspec": {
   "display_name": "Python 3 (ipykernel)",
   "language": "python",
   "name": "python3"
  },
  "language_info": {
   "codemirror_mode": {
    "name": "ipython",
    "version": 3
   },
   "file_extension": ".py",
   "mimetype": "text/x-python",
   "name": "python",
   "nbconvert_exporter": "python",
   "pygments_lexer": "ipython3",
   "version": "3.11.9"
  }
 },
 "nbformat": 4,
 "nbformat_minor": 5
}
