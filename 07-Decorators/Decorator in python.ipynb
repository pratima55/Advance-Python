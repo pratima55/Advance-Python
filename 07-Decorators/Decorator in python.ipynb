{
 "cells": [
  {
   "cell_type": "markdown",
   "id": "e68c6514-c2b9-4a0a-b58c-220aaa31d52a",
   "metadata": {},
   "source": [
    "#### Decorator is function that takes another function as argument and return a function."
   ]
  },
  {
   "cell_type": "code",
   "execution_count": null,
   "id": "d6ffee4b-3fdd-4e4d-bd57-04f4d3b931ee",
   "metadata": {},
   "outputs": [],
   "source": []
  },
  {
   "cell_type": "code",
   "execution_count": 11,
   "id": "dadb1196-824a-41da-8807-454c06cc7d9d",
   "metadata": {},
   "outputs": [
    {
     "name": "stdout",
     "output_type": "stream",
     "text": [
      "Function add called with arguments (3, 5) {}\n",
      "8\n"
     ]
    }
   ],
   "source": [
    "def logger(func):\n",
    "    def wrapper(*args, **kwargs):\n",
    "        print(f\"Function {func.__name__} called with arguments {args} {kwargs}\")\n",
    "        return func(*args, **kwargs)\n",
    "    return wrapper\n",
    "\n",
    "@logger\n",
    "def add(x, y):\n",
    "    return x + y\n",
    "\n",
    "print(add(3, 5))  # Logs the call before returning 8\n"
   ]
  },
  {
   "cell_type": "markdown",
   "id": "583e3054-24de-4ce7-9e47-ba2dbf9d68fe",
   "metadata": {},
   "source": [
    "#### Timing Decorator"
   ]
  },
  {
   "cell_type": "code",
   "execution_count": 12,
   "id": "bd04d8e9-a04c-45cf-a868-cf55972b6eab",
   "metadata": {},
   "outputs": [
    {
     "name": "stdout",
     "output_type": "stream",
     "text": [
      "slow_function took 2.0005 seconds\n",
      "Finished\n"
     ]
    }
   ],
   "source": [
    "import time\n",
    "\n",
    "def timer(func):\n",
    "    def wrapper(*args, **kwargs):\n",
    "        start = time.time()\n",
    "        result = func(*args, **kwargs)\n",
    "        end = time.time()\n",
    "        print(f\"{func.__name__} took {end - start:.4f} seconds\")\n",
    "        return result\n",
    "    return wrapper\n",
    "\n",
    "@timer\n",
    "def slow_function():\n",
    "    time.sleep(2)\n",
    "    return \"Finished\"\n",
    "\n",
    "print(slow_function())\n"
   ]
  },
  {
   "cell_type": "markdown",
   "id": "62cdada3-75d5-4934-bb79-87b9dcc1ebc3",
   "metadata": {},
   "source": [
    "#### example:\n"
   ]
  },
  {
   "cell_type": "code",
   "execution_count": 13,
   "id": "e9a5bde6-4aef-4607-a0af-3d08de43dd12",
   "metadata": {},
   "outputs": [
    {
     "name": "stdout",
     "output_type": "stream",
     "text": [
      "Hello\n",
      "Good Morning!\n"
     ]
    }
   ],
   "source": [
    "def say_hello_decorator(func):\n",
    "    def wrapper():\n",
    "        print(\"Hello\")\n",
    "        func()\n",
    "    return wrapper\n",
    "\n",
    "@say_hello_decorator\n",
    "def greet():\n",
    "    print(\"Good Morning!\")\n",
    "\n",
    "greet()    "
   ]
  },
  {
   "cell_type": "code",
   "execution_count": 16,
   "id": "54e92d22-9c6c-4600-badc-6d1f00b49a58",
   "metadata": {},
   "outputs": [
    {
     "name": "stdout",
     "output_type": "stream",
     "text": [
      " calling add with 3 and 4\n",
      "7\n"
     ]
    }
   ],
   "source": [
    "def logger(func):\n",
    "    def wrapper (x,y):\n",
    "        print(f\" calling {func.__name__} with {x} and {y}\")\n",
    "        return func(x,y)\n",
    "\n",
    "    return wrapper\n",
    "@logger\n",
    "def add (x,y):\n",
    "    return x+y\n",
    "print(add(3,4))"
   ]
  },
  {
   "cell_type": "code",
   "execution_count": 17,
   "id": "91051bc5-e77d-4d21-9556-dc15166c0775",
   "metadata": {},
   "outputs": [
    {
     "name": "stdout",
     "output_type": "stream",
     "text": [
      "32\n"
     ]
    }
   ],
   "source": [
    "def double_result(func):\n",
    "    def wrapper (x):\n",
    "        result = func(x)\n",
    "        return result*2\n",
    "    return wrapper\n",
    "\n",
    "@double_result\n",
    "def square(x):\n",
    "    return x*x\n",
    "\n",
    "print(square(4)) # (4*4 =16) *2 = 32\n",
    "    \n",
    "    "
   ]
  },
  {
   "cell_type": "code",
   "execution_count": null,
   "id": "5ff78b5a-0438-4840-9be6-531d0045b088",
   "metadata": {},
   "outputs": [],
   "source": []
  }
 ],
 "metadata": {
  "kernelspec": {
   "display_name": "Python 3 (ipykernel)",
   "language": "python",
   "name": "python3"
  },
  "language_info": {
   "codemirror_mode": {
    "name": "ipython",
    "version": 3
   },
   "file_extension": ".py",
   "mimetype": "text/x-python",
   "name": "python",
   "nbconvert_exporter": "python",
   "pygments_lexer": "ipython3",
   "version": "3.11.9"
  }
 },
 "nbformat": 4,
 "nbformat_minor": 5
}
