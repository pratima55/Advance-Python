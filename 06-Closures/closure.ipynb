{
 "cells": [
  {
   "cell_type": "code",
   "execution_count": null,
   "id": "17751231-0aa9-4059-bbad-24e2b5881b05",
   "metadata": {},
   "outputs": [],
   "source": []
  },
  {
   "cell_type": "code",
   "execution_count": null,
   "id": "97db3357-f350-4960-84cf-7b168eb19c61",
   "metadata": {},
   "outputs": [],
   "source": []
  },
  {
   "cell_type": "markdown",
   "id": "dda2f820-1c3a-4eb1-b602-b747b4fe9ebc",
   "metadata": {},
   "source": [
    "### Example 1"
   ]
  },
  {
   "cell_type": "markdown",
   "id": "1dba16f0-3e00-414b-8bb3-e42d7a001b2f",
   "metadata": {},
   "source": [
    "#### Without closure"
   ]
  },
  {
   "cell_type": "code",
   "execution_count": 4,
   "id": "064b19fe-87aa-4192-b801-616b4a2e0833",
   "metadata": {},
   "outputs": [
    {
     "name": "stdout",
     "output_type": "stream",
     "text": [
      "[3]\n",
      "[3, 4]\n",
      "[3, 4, 7]\n"
     ]
    }
   ],
   "source": [
    "numbers = []\n",
    "\n",
    "def enter_number(x):\n",
    "    numbers.append(x)\n",
    "    print(numbers)\n",
    "\n",
    "enter_number(3)\n",
    "enter_number(4)\n",
    "enter_number(7)\n",
    "    "
   ]
  },
  {
   "cell_type": "markdown",
   "id": "64244633-be6c-422f-8a38-8a13fc484c6b",
   "metadata": {},
   "source": [
    "#### With closure"
   ]
  },
  {
   "cell_type": "code",
   "execution_count": 5,
   "id": "334bd58f-6c47-42ab-a092-eaa9a1f217df",
   "metadata": {},
   "outputs": [
    {
     "name": "stdout",
     "output_type": "stream",
     "text": [
      "[3]\n",
      "[3, 4]\n",
      "[3, 4, 7]\n"
     ]
    }
   ],
   "source": [
    "def enter_number_outer():\n",
    "    number = []\n",
    "\n",
    "    def enter_number_inner(x):\n",
    "        number.append(x)\n",
    "        print(number)\n",
    "\n",
    "    return enter_number_inner\n",
    "\n",
    "enter_num = enter_number_outer()\n",
    "enter_num(3)\n",
    "enter_num(4)\n",
    "enter_num(7)"
   ]
  },
  {
   "cell_type": "code",
   "execution_count": null,
   "id": "a92818e9-625f-40d7-a408-af4b34053078",
   "metadata": {},
   "outputs": [],
   "source": []
  },
  {
   "cell_type": "code",
   "execution_count": null,
   "id": "4482f478-0848-4b48-a32e-be5ab15c2bda",
   "metadata": {},
   "outputs": [],
   "source": []
  }
 ],
 "metadata": {
  "kernelspec": {
   "display_name": "Python 3 (ipykernel)",
   "language": "python",
   "name": "python3"
  },
  "language_info": {
   "codemirror_mode": {
    "name": "ipython",
    "version": 3
   },
   "file_extension": ".py",
   "mimetype": "text/x-python",
   "name": "python",
   "nbconvert_exporter": "python",
   "pygments_lexer": "ipython3",
   "version": "3.11.9"
  }
 },
 "nbformat": 4,
 "nbformat_minor": 5
}
